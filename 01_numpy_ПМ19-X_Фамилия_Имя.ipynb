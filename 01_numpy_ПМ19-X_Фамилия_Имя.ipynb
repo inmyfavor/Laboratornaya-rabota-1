{
 "cells": [
  {
   "cell_type": "markdown",
   "metadata": {},
   "source": [
    "# Numpy"
   ]
  },
  {
   "cell_type": "markdown",
   "metadata": {},
   "source": [
    "Материалы:\n",
    "* Макрушин С.В. \"Лекция 1: Библиотека Numpy\"\n",
    "* https://numpy.org/doc/stable/user/index.html\n",
    "* https://numpy.org/doc/stable/reference/index.html"
   ]
  },
  {
   "cell_type": "markdown",
   "metadata": {},
   "source": [
    "## Задачи для совместного разбора"
   ]
  },
  {
   "cell_type": "markdown",
   "metadata": {},
   "source": [
    "1. Сгенерировать двухмерный массив `arr` размерности (4, 7), состоящий из случайных действительных чисел, равномерно распределенных в диапазоне от 0 до 20. Нормализовать значения массива с помощью преобразования вида  $𝑎𝑥+𝑏$  так, что после нормализации максимальный элемент масcива будет равен 1.0, минимальный 0.0"
   ]
  },
  {
   "cell_type": "code",
   "execution_count": 3,
   "metadata": {},
   "outputs": [],
   "source": [
    "import numpy as np"
   ]
  },
  {
   "cell_type": "code",
   "execution_count": 77,
   "metadata": {},
   "outputs": [
    {
     "name": "stdout",
     "output_type": "stream",
     "text": [
      "[[0.1875 0.6875 1.     0.5625 0.5625 1.     0.    ]\n",
      " [0.1875 0.4375 0.3125 0.875  1.     0.9375 0.0625]\n",
      " [0.4375 0.0625 0.8125 0.75   0.75   0.625  0.8125]\n",
      " [0.9375 0.6875 0.375  0.8125 0.4375 0.1875 0.0625]]\n"
     ]
    }
   ],
   "source": [
    "D = np.random.randint(0, 20, size = (4, 7))\n",
    "D_normed = (D - D.min())/(D.max()-D.min())\n",
    "print(D_normed)"
   ]
  },
  {
   "cell_type": "markdown",
   "metadata": {},
   "source": [
    "2. Создать матрицу 8 на 10 из случайных целых (используя модуль `numpy.random`) чисел из диапозона от 0 до 10 и найти в ней строку (ее индекс и вывести саму строку), в которой сумма значений минимальна."
   ]
  },
  {
   "cell_type": "code",
   "execution_count": 89,
   "metadata": {},
   "outputs": [
    {
     "name": "stdout",
     "output_type": "stream",
     "text": [
      "индекс строки: (array([1, 7]),)\n",
      "строка: [[0 4 0 4 8 6 4 3 6 2]\n",
      " [2 4 7 4 5 3 0 1 8 3]]\n"
     ]
    }
   ],
   "source": [
    "F = np.random.randint(0, 10, size = (8, 10))\n",
    "F_rows_sum = np.sum(F, axis=1)\n",
    "F_min_index = np.nonzero(F_rows_sum == np.min(F_rows_sum))\n",
    "print('индекс строки: '+str(F_min_index))\n",
    "print('строка: '+str(F[F_min_index]))"
   ]
  },
  {
   "cell_type": "markdown",
   "metadata": {},
   "source": [
    "3. Найти евклидово расстояние между двумя одномерными векторами одинаковой размерности."
   ]
  },
  {
   "cell_type": "code",
   "execution_count": 102,
   "metadata": {},
   "outputs": [
    {
     "name": "stdout",
     "output_type": "stream",
     "text": [
      "367.47652986279275\n"
     ]
    }
   ],
   "source": [
    "n = np.random.randint(1, 100)\n",
    "G = np.random.randint(0, 100, size=(2, n))\n",
    "dist = np.linalg.norm(G[0]-G[1])\n",
    "print(dist)"
   ]
  },
  {
   "cell_type": "markdown",
   "metadata": {},
   "source": [
    "4. Решить матричное уравнение `A*X*B=-C` - найти матрицу `X`. Где `A = [[-1, 2, 4], [-3, 1, 2], [-3, 0, 1]]`, `B=[[3, -1], [2, 1]]`, `C=[[7, 21], [11, 8], [8, 4]]`."
   ]
  },
  {
   "cell_type": "code",
   "execution_count": 75,
   "metadata": {},
   "outputs": [
    {
     "name": "stdout",
     "output_type": "stream",
     "text": [
      "[[ 1.00000000e+00  5.32907052e-16]\n",
      " [-2.00000000e+00  1.00000000e+00]\n",
      " [ 3.00000000e+00 -4.00000000e+00]]\n"
     ]
    }
   ],
   "source": [
    "A = np.array([[-1, 2, 4], \n",
    "              [-3, 1, 2], \n",
    "              [-3, 0, 1]])\n",
    "\n",
    "B = np.array([[3, -1], \n",
    "              [2, 1]])\n",
    "\n",
    "C = np.array([[7, 21], \n",
    "              [11, 8], \n",
    "              [8, 4]])\n",
    "\n",
    "inv_A = np.linalg.inv(A)\n",
    "inv_B = np.linalg.inv(B)\n",
    "XB = np.dot(inv_A,-C)\n",
    "X = np.dot(XB, inv_B)\n",
    "\n",
    "print(X)"
   ]
  },
  {
   "cell_type": "markdown",
   "metadata": {},
   "source": [
    "## Лабораторная работа №1"
   ]
  },
  {
   "cell_type": "markdown",
   "metadata": {},
   "source": [
    "Замечание: при решении данных задач не подразумевается использования циклов или генераторов Python, если в задании не сказано обратного. Решение должно опираться на использования функционала библиотеки `numpy`."
   ]
  },
  {
   "cell_type": "markdown",
   "metadata": {},
   "source": [
    "1. Файл `minutes_n_ingredients.csv` содержит информацию об идентификаторе рецепта, времени его выполнения в минутах и количестве необходимых ингредиентов. Считайте данные из этого файла в виде массива `numpy` типа `int32`, используя `np.loadtxt`. Выведите на экран первые 5 строк массива."
   ]
  },
  {
   "cell_type": "code",
   "execution_count": 4,
   "metadata": {},
   "outputs": [
    {
     "data": {
      "text/plain": [
       "array([[127244,     60,     16],\n",
       "       [ 23891,     25,      7],\n",
       "       [ 94746,     10,      6],\n",
       "       [ 67660,      5,      6],\n",
       "       [157911,     60,     14]], dtype=int32)"
      ]
     },
     "execution_count": 4,
     "metadata": {},
     "output_type": "execute_result"
    }
   ],
   "source": [
    "minutes_n_ingredients = np.loadtxt('./minutes_n_ingredients.csv', dtype='int32', skiprows=1, delimiter=',')\n",
    "minutes_n_ingredients[:5]"
   ]
  },
  {
   "cell_type": "markdown",
   "metadata": {},
   "source": [
    "2. Вычислите среднее значение, минимум, максимум и медиану по каждому из столбцов, кроме первого."
   ]
  },
  {
   "cell_type": "code",
   "execution_count": 5,
   "metadata": {},
   "outputs": [],
   "source": [
    "id = minutes_n_ingredients[:, 0]\n",
    "time = minutes_n_ingredients[:, 1]\n",
    "amount = minutes_n_ingredients[:, 2]"
   ]
  },
  {
   "cell_type": "code",
   "execution_count": 45,
   "metadata": {},
   "outputs": [
    {
     "name": "stdout",
     "output_type": "stream",
     "text": [
      "среднее значение по столбцу \"время выполнения\": 21601.00169\n",
      "минимум по столбцу \"время выполнения\": 0\n",
      "максимум по столбцу \"время выполнения\": 2147483647\n",
      "медиана по столбцу \"время выполнения\": 40.0\n",
      "среднее значение по столбцу \"количество необходимых ингредиентов\": 9.05528\n",
      "минимум по столбцу \"количество необходимых ингредиентов\": 1\n",
      "максимум по столбцу \"количество необходимых ингредиентов\": 39\n",
      "медиана по столбцу \"количество необходимых ингредиентов\": 9.0\n"
     ]
    }
   ],
   "source": [
    "print('среднее значение по столбцу \"время выполнения\": ' + str(time.mean()))\n",
    "print('минимум по столбцу \"время выполнения\": ' + str(time.min()))\n",
    "print('максимум по столбцу \"время выполнения\": ' + str(time.max()))\n",
    "print('медиана по столбцу \"время выполнения\": ' + str(np.median(time)))\n",
    "print('среднее значение по столбцу \"количество необходимых ингредиентов\": ' + str(amount.mean()))\n",
    "print('минимум по столбцу \"количество необходимых ингредиентов\": ' + str(amount.min()))\n",
    "print('максимум по столбцу \"количество необходимых ингредиентов\": ' + str(amount.max()))\n",
    "print('медиана по столбцу \"количество необходимых ингредиентов\": ' + str(np.median(amount)))"
   ]
  },
  {
   "cell_type": "markdown",
   "metadata": {},
   "source": [
    "3. Ограничьте сверху значения продолжительности выполнения рецепта значением квантиля $q_{0.75}$. "
   ]
  },
  {
   "cell_type": "code",
   "execution_count": 6,
   "metadata": {},
   "outputs": [
    {
     "data": {
      "text/plain": [
       "array([60., 25., 10., ..., 65.,  5., 65.])"
      ]
     },
     "execution_count": 6,
     "metadata": {},
     "output_type": "execute_result"
    }
   ],
   "source": [
    "np.clip(time, 0, np.quantile(time, 0.75))"
   ]
  },
  {
   "cell_type": "markdown",
   "metadata": {},
   "source": [
    "4. Посчитайте, для скольких рецептов указана продолжительность, равная нулю. Замените для таких строк значение в данном столбце на 1."
   ]
  },
  {
   "cell_type": "code",
   "execution_count": 137,
   "metadata": {},
   "outputs": [
    {
     "name": "stdout",
     "output_type": "stream",
     "text": [
      "количество рецептов, продолжительность которых равна нулю: 479\n"
     ]
    }
   ],
   "source": [
    "print('количество рецептов, продолжительность которых равна нулю: '+str(np.sum(time==0)))\n",
    "minutes_n_ingredients[time==0,1] = 1"
   ]
  },
  {
   "cell_type": "markdown",
   "metadata": {},
   "source": [
    "5. Посчитайте, сколько уникальных рецептов находится в датасете."
   ]
  },
  {
   "cell_type": "code",
   "execution_count": 130,
   "metadata": {},
   "outputs": [
    {
     "data": {
      "text/plain": [
       "99522"
      ]
     },
     "execution_count": 130,
     "metadata": {},
     "output_type": "execute_result"
    }
   ],
   "source": [
    "len(np.unique(id))"
   ]
  },
  {
   "cell_type": "markdown",
   "metadata": {},
   "source": [
    "6. Сколько и каких различных значений кол-ва ингредиентов присутвует в рецептах из датасета?"
   ]
  },
  {
   "cell_type": "code",
   "execution_count": 131,
   "metadata": {},
   "outputs": [
    {
     "name": "stdout",
     "output_type": "stream",
     "text": [
      "количество уникальных значений столбца \"количество ингредиентов\": 37\n",
      "уникальные значения: [ 1  2  3  4  5  6  7  8  9 10 11 12 13 14 15 16 17 18 19 20 21 22 23 24\n",
      " 25 26 27 28 29 30 31 32 33 34 35 37 39]\n"
     ]
    }
   ],
   "source": [
    "print('количество уникальных значений столбца \"количество ингредиентов\": '+str(len(np.unique(amount))))\n",
    "print('уникальные значения: '+str(np.unique(amount)))"
   ]
  },
  {
   "cell_type": "markdown",
   "metadata": {},
   "source": [
    "7. Создайте версию массива, содержащую информацию только о рецептах, состоящих не более чем из 5 ингредиентов."
   ]
  },
  {
   "cell_type": "code",
   "execution_count": 132,
   "metadata": {},
   "outputs": [
    {
     "name": "stdout",
     "output_type": "stream",
     "text": [
      "[[446597     15      5]\n",
      " [204134      5      3]\n",
      " [ 25623      6      4]\n",
      " ...\n",
      " [ 52088     60      5]\n",
      " [128811     15      4]\n",
      " [370915      5      4]]\n"
     ]
    }
   ],
   "source": [
    "new_minutes_n_ingredients = minutes_n_ingredients[amount < 6]\n",
    "print(new_minutes_n_ingredients)"
   ]
  },
  {
   "cell_type": "markdown",
   "metadata": {},
   "source": [
    "8. Для каждого рецепта посчитайте, сколько в среднем ингредиентов приходится на одну минуту рецепта. Найдите максимальное значение этой величины для всего датасета"
   ]
  },
  {
   "cell_type": "code",
   "execution_count": 56,
   "metadata": {},
   "outputs": [
    {
     "data": {
      "text/plain": [
       "24.0"
      ]
     },
     "execution_count": 56,
     "metadata": {},
     "output_type": "execute_result"
    }
   ],
   "source": [
    "np.max(amount/time)"
   ]
  },
  {
   "cell_type": "markdown",
   "metadata": {},
   "source": [
    "9. Вычислите среднее количество ингредиентов для топ-100 рецептов с наибольшей продолжительностью"
   ]
  },
  {
   "cell_type": "code",
   "execution_count": 147,
   "metadata": {},
   "outputs": [
    {
     "name": "stdout",
     "output_type": "stream",
     "text": [
      "6.61\n"
     ]
    }
   ],
   "source": [
    "top_100_average = minutes_n_ingredients[minutes_n_ingredients[:, 1].argsort()[::-1]][:100, 2].mean()\n",
    "print(top_100_average)"
   ]
  },
  {
   "cell_type": "markdown",
   "metadata": {},
   "source": [
    "10. Выберите случайным образом и выведите информацию о 10 различных рецептах"
   ]
  },
  {
   "cell_type": "code",
   "execution_count": 158,
   "metadata": {},
   "outputs": [
    {
     "data": {
      "text/plain": [
       "array([[208830,     20,      8],\n",
       "       [413930,     25,      7],\n",
       "       [311925,      5,      8],\n",
       "       [233481,     30,      9],\n",
       "       [ 62513,     20,      8],\n",
       "       [517687,     70,      6],\n",
       "       [391994,    100,     11],\n",
       "       [106004,     40,     10],\n",
       "       [434714,    120,     16],\n",
       "       [ 93651,    240,     12]], dtype=int32)"
      ]
     },
     "execution_count": 158,
     "metadata": {},
     "output_type": "execute_result"
    }
   ],
   "source": [
    "rnd = np.random.choice(len(minutes_n_ingredients), 10, replace=False)\n",
    "minutes_n_ingredients[rnd]"
   ]
  },
  {
   "cell_type": "markdown",
   "metadata": {},
   "source": [
    "11. Выведите процент рецептов, кол-во ингредиентов в которых меньше среднего."
   ]
  },
  {
   "cell_type": "code",
   "execution_count": 159,
   "metadata": {},
   "outputs": [
    {
     "data": {
      "text/plain": [
       "0.58802"
      ]
     },
     "execution_count": 159,
     "metadata": {},
     "output_type": "execute_result"
    }
   ],
   "source": [
    "len(amount[amount < amount.mean()])/len(amount)"
   ]
  },
  {
   "cell_type": "markdown",
   "metadata": {},
   "source": [
    "12. Назовем \"простым\" такой рецепт, длительность выполнения которого не больше 20 минут и кол-во ингредиентов в котором не больше 5. Создайте версию датасета с дополнительным столбцом, значениями которого являются 1, если рецепт простой, и 0 в противном случае."
   ]
  },
  {
   "cell_type": "code",
   "execution_count": 181,
   "metadata": {},
   "outputs": [
    {
     "data": {
      "text/plain": [
       "array([[127244,     60,     16,      0],\n",
       "       [ 23891,     25,      7,      0],\n",
       "       [ 94746,     10,      6,      0],\n",
       "       ...,\n",
       "       [498432,     65,     15,      0],\n",
       "       [370915,      5,      4,      1],\n",
       "       [ 81993,    140,     14,      0]])"
      ]
     },
     "execution_count": 181,
     "metadata": {},
     "output_type": "execute_result"
    }
   ],
   "source": [
    "is_recipe_easy = ((time < 21) & (amount < 6)) * 1\n",
    "np.concatenate((minutes_n_ingredients, is_recipe_easy[:, np.newaxis]), axis=1)"
   ]
  },
  {
   "cell_type": "markdown",
   "metadata": {},
   "source": [
    "13. Выведите процент \"простых\" рецептов в датасете"
   ]
  },
  {
   "cell_type": "code",
   "execution_count": 182,
   "metadata": {},
   "outputs": [
    {
     "data": {
      "text/plain": [
       "0.09552"
      ]
     },
     "execution_count": 182,
     "metadata": {},
     "output_type": "execute_result"
    }
   ],
   "source": [
    "np.sum(is_recipe_easy == 1)/len(is_recipe_easy)"
   ]
  },
  {
   "cell_type": "markdown",
   "metadata": {},
   "source": [
    "14. Разделим рецепты на группы по следующему правилу. Назовем рецепты короткими, если их продолжительность составляет менее 10 минут; стандартными, если их продолжительность составляет более 10, но менее 20 минут; и длинными, если их продолжительность составляет не менее 20 минут. Создайте трехмерный массив, где нулевая ось отвечает за номер группы (короткий, стандартный или длинный рецепт), первая ось - за сам рецепт и вторая ось - за характеристики рецепта. Выберите максимальное количество рецептов из каждой группы таким образом, чтобы было возможно сформировать трехмерный массив. Выведите форму полученного массива."
   ]
  },
  {
   "cell_type": "code",
   "execution_count": 12,
   "metadata": {},
   "outputs": [
    {
     "data": {
      "text/plain": [
       "array([[[ 94746,     10,      6],\n",
       "        [ 67660,      5,      6],\n",
       "        [366174,      7,      9],\n",
       "        ...,\n",
       "        [  7983,      0,      6],\n",
       "        [184171,      5,      2],\n",
       "        [ 89181,      5,      7]],\n",
       "\n",
       "       [[ 33941,     18,      9],\n",
       "        [446597,     15,      5],\n",
       "        [ 81006,     12,      7],\n",
       "        ...,\n",
       "        [ 44120,     17,      5],\n",
       "        [ 60756,     15,      5],\n",
       "        [128811,     15,      4]],\n",
       "\n",
       "       [[127244,     60,     16],\n",
       "        [ 23891,     25,      7],\n",
       "        [157911,     60,     14],\n",
       "        ...,\n",
       "        [186515,    220,     11],\n",
       "        [372540,     50,      6],\n",
       "        [172926,    120,     13]]], dtype=int32)"
      ]
     },
     "execution_count": 12,
     "metadata": {},
     "output_type": "execute_result"
    }
   ],
   "source": [
    "short = minutes_n_ingredients[time <= 10]\n",
    "standart = minutes_n_ingredients[(10 < time) & (time < 20)]\n",
    "long = minutes_n_ingredients[time >= 20]\n",
    "size = np.min((len(short), len(standart), len(long)))\n",
    "np.stack([short[:size], standart[:size], long[:size]])"
   ]
  },
  {
   "cell_type": "code",
   "execution_count": null,
   "metadata": {},
   "outputs": [],
   "source": []
  }
 ],
 "metadata": {
  "kernelspec": {
   "display_name": "Python 3",
   "language": "python",
   "name": "python3"
  },
  "language_info": {
   "codemirror_mode": {
    "name": "ipython",
    "version": 3
   },
   "file_extension": ".py",
   "mimetype": "text/x-python",
   "name": "python",
   "nbconvert_exporter": "python",
   "pygments_lexer": "ipython3",
   "version": "3.9.6"
  },
  "vscode": {
   "interpreter": {
    "hash": "31f2aee4e71d21fbe5cf8b01ff0e069b9275f58929596ceb00d14d90e3e16cd6"
   }
  }
 },
 "nbformat": 4,
 "nbformat_minor": 4
}
